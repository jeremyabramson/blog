{
 "cells": [
  {
   "cell_type": "markdown",
   "id": "eb3de16c",
   "metadata": {},
   "source": [
    "# \"Footnotes Are Broken?\"\n",
    "> \"I think?\"\n",
    "\n",
    "- toc: true \n",
    "- badges: true\n",
    "- comments: true\n",
    "- author Jeremy Abramson\n",
    "- categories: [Broken footnotes]\n",
    "- image: images/chart-preview.png"
   ]
  },
  {
   "cell_type": "markdown",
   "id": "2a556e07",
   "metadata": {},
   "source": [
    "This is literally verbatim from the sample notebook"
   ]
  },
  {
   "cell_type": "markdown",
   "id": "d9288e18",
   "metadata": {},
   "source": [
    "For example, here is a footnote {% fn 1 %}."
   ]
  },
  {
   "cell_type": "markdown",
   "id": "012aa7d4",
   "metadata": {},
   "source": [
    "And another {% fn 2 %}"
   ]
  },
  {
   "cell_type": "markdown",
   "id": "706bb391",
   "metadata": {},
   "source": [
    "{{ 'This is the footnote.' | fndetail: 1 }}"
   ]
  },
  {
   "cell_type": "markdown",
   "id": "b1036159",
   "metadata": {},
   "source": [
    "{{ 'This is the other footnote. You can even have a [link](www.github.com)!' | fndetail: 2 }}"
   ]
  },
  {
   "cell_type": "code",
   "execution_count": null,
   "id": "b528d988",
   "metadata": {},
   "outputs": [],
   "source": []
  },
  {
   "cell_type": "code",
   "execution_count": null,
   "id": "e553bd7c",
   "metadata": {},
   "outputs": [],
   "source": []
  }
 ],
 "metadata": {
  "kernelspec": {
   "display_name": "Python [conda env:sports]",
   "language": "python",
   "name": "conda-env-sports-py"
  },
  "language_info": {
   "codemirror_mode": {
    "name": "ipython",
    "version": 3
   },
   "file_extension": ".py",
   "mimetype": "text/x-python",
   "name": "python",
   "nbconvert_exporter": "python",
   "pygments_lexer": "ipython3",
   "version": "3.8.5"
  }
 },
 "nbformat": 4,
 "nbformat_minor": 5
}
