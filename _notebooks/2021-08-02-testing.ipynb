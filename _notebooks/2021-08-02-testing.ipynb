{
 "cells": [
  {
   "cell_type": "markdown",
   "id": "f7c1799a",
   "metadata": {},
   "source": [
    "# \"Footnotes suck\"\n",
    "> \"this sucks\"\n",
    "\n",
    "- toc: true \n",
    "- badges: true\n",
    "- comments: true\n",
    "- author Jeremy Abramson\n",
    "- categories: [stuff that sucks]\n",
    "- image: images/chart-preview.png"
   ]
  },
  {
   "cell_type": "markdown",
   "id": "f222adfc",
   "metadata": {},
   "source": [
    "Blah blab blah"
   ]
  },
  {
   "cell_type": "markdown",
   "id": "31543788",
   "metadata": {},
   "source": [
    "For example, here is a footnote {% fn 1 %}."
   ]
  },
  {
   "cell_type": "markdown",
   "id": "081dcdc5",
   "metadata": {},
   "source": [
    "And another {% fn 2 %}"
   ]
  },
  {
   "cell_type": "markdown",
   "id": "3ca103eb",
   "metadata": {
    "variables": {
     " 'This is the footnote.' | fndetail: 1 ": "<p><strong>SyntaxError</strong>: illegal target for annotation (<ipython-input-3-538c2ef9973a>, line 1)</p>\n"
    }
   },
   "source": [
    "{{ 'This is the footnote.' | fndetail: 1 }}"
   ]
  },
  {
   "cell_type": "markdown",
   "id": "e33d5bfb",
   "metadata": {
    "variables": {
     " 'This is the other footnote. You can even have a <a href=\"www.github.com\" target=\"_blank\">link</a>!' | fndetail: 2 ": "<p><strong>SyntaxError</strong>: illegal target for annotation (<ipython-input-3-638b4654e015>, line 1)</p>\n"
    }
   },
   "source": [
    "{{ 'This is the other footnote. You can even have a [link](www.github.com)!' | fndetail: 2 }}"
   ]
  },
  {
   "cell_type": "code",
   "execution_count": null,
   "id": "cac23133",
   "metadata": {},
   "outputs": [],
   "source": []
  }
 ],
 "metadata": {
  "kernelspec": {
   "display_name": "Python [conda env:sports]",
   "language": "python",
   "name": "conda-env-sports-py"
  },
  "language_info": {
   "codemirror_mode": {
    "name": "ipython",
    "version": 3
   },
   "file_extension": ".py",
   "mimetype": "text/x-python",
   "name": "python",
   "nbconvert_exporter": "python",
   "pygments_lexer": "ipython3",
   "version": "3.8.5"
  }
 },
 "nbformat": 4,
 "nbformat_minor": 5
}
