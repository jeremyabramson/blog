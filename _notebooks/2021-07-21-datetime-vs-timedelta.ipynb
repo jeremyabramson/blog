{
 "cells": [
  {
   "cell_type": "markdown",
   "id": "8efe3299",
   "metadata": {},
   "source": [
    "# Datetime vs. Timedeltas\n",
    "> A battle for Python temporal surpremacy\n",
    "\n",
    "- toc: true \n",
    "- badges: true\n",
    "- comments: true\n",
    "- categories: [sports analytics, nba, python, research, projects, injuries]\n",
    "- image: images/chart-preview.png"
   ]
  },
  {
   "cell_type": "code",
   "execution_count": 4,
   "id": "38bb6656",
   "metadata": {},
   "outputs": [
    {
     "name": "stdout",
     "output_type": "stream",
     "text": [
      "******: datetime - datetime = timedelta\n",
      "A <class 'datetime.datetime'> - a <class 'datetime.datetime'> is a <class 'datetime.timedelta'>\n",
      "i.e. 2011-09-18 00:00:00 - 2021-01-01 00:00:00 = -3393 days, 0:00:00\n",
      "******: datetime + datetime = Error!\n",
      "You can't add type(random_date)=<class 'datetime.datetime'> and type(another_date)=<class 'datetime.datetime'>\n",
      "******: datetime +/- timedelta = datetime\n",
      "A <class 'datetime.datetime'> +/- a <class 'datetime.timedelta'> is a <class 'datetime.datetime'>\n",
      "i.e. 2011-09-18 00:00:00 - 10 days, 0:00:00 = 2011-09-08 00:00:00\n",
      "i.e. 2011-09-18 00:00:00 + 10 days, 0:00:00 = 2011-09-28 00:00:00\n",
      "******: timedelta + datetime = datetime\n",
      "A <class 'datetime.timedelta'> + a <class 'datetime.datetime'> is a <class 'datetime.datetime'>\n",
      "i.e. 10 days, 0:00:00 + 2011-09-18 00:00:00 = 2011-09-28 00:00:00\n",
      "******: # timedelta - datetime = Error!\n",
      "You can't subtract type(ten_days_hence)=<class 'datetime.timedelta'> - type(random_date)=<class 'datetime.datetime'>\n"
     ]
    }
   ],
   "source": [
    "import datetime\n",
    "\n",
    "random_date = datetime.datetime.strptime('2011-09-18', '%Y-%m-%d')\n",
    "another_date = datetime.datetime.strptime('2021-01-1', '%Y-%m-%d')\n",
    "ten_days_hence = datetime.timedelta(days=10)\n",
    "\n",
    "# datetime - datetime = timedelta\n",
    "print('******: datetime - datetime = timedelta')\n",
    "print(f'A {type(random_date)} - a {type(another_date)} is a {type(random_date - another_date)}')\n",
    "print(f'i.e. {random_date} - {another_date} = {random_date - another_date}')\n",
    "\n",
    "# datetime + datetime = Error!\n",
    "print('******: datetime + datetime = Error!')\n",
    "try:\n",
    "    print(f'A {type(random_date)} + a {type(another_date)} is a {type(random_date + another_date)}')\n",
    "except TypeError:\n",
    "    print(f\"You can't add {type(random_date)=} and {type(another_date)=}\")\n",
    "\n",
    "# datetime +/- timedelta = datetime\n",
    "print('******: datetime +/- timedelta = datetime')\n",
    "print(f'A {type(random_date)} +/- a {type(ten_days_hence)} is a {type(random_date - ten_days_hence)}')\n",
    "print(f'i.e. {random_date} - {ten_days_hence} = {random_date - ten_days_hence}')\n",
    "print(f'i.e. {random_date} + {ten_days_hence} = {random_date + ten_days_hence}')\n",
    "\n",
    "# timedelta + datetime = datetime\n",
    "print('******: timedelta + datetime = datetime')\n",
    "print(f'A {type(ten_days_hence)} + a {type(random_date)} is a {type(ten_days_hence + random_date)}')\n",
    "print(f'i.e. {ten_days_hence} + {random_date} = {ten_days_hence + random_date}')\n",
    "\n",
    "# timedelta - datetime = Error!\n",
    "print('******: # timedelta - datetime = Error!')\n",
    "try:\n",
    "    print(f'A {type(ten_days_hence)} - a {type(random_date)} is a {type(ten_days_hence - random_date)}')\n",
    "except TypeError:\n",
    "    print(f\"You can't subtract {type(ten_days_hence)=} - {type(random_date)=}\")\n",
    "\n",
    "\n",
    "\n",
    "\n",
    "new_date = random_date + datetime.timedelta(days=10)\n",
    "# timedelta = datetime +/- datetime\n",
    "other_date = new_date - random_date\n",
    "# datetime = timedelta + datetime\n",
    "yet_another_date = datetime.timedelta(days=-10) + random_date\n",
    "# ERROR = timedelta - datetime\n",
    "# bad_value = datetime.timedelta(days=-10) - random_date"
   ]
  },
  {
   "cell_type": "markdown",
   "id": "ec044cb7",
   "metadata": {},
   "source": [
    "> Tip: If you were curious, this can be converted to a `generator` with the following:\n",
    "        \n",
    "```python\n",
    "def daterange(date1, date2):\n",
    "    for n in range(int ((date2 - date1).days)+1):\n",
    "        yield date1 + datetime.timedelta(n)\n",
    "```"
   ]
  },
  {
   "cell_type": "code",
   "execution_count": 2,
   "id": "acdee509",
   "metadata": {},
   "outputs": [],
   "source": [
    "def daterange(date1, date2):\n",
    "    for n in range(int ((date2 - date1).days)+1):\n",
    "        yield date1 + datetime.timedelta(n)"
   ]
  },
  {
   "cell_type": "code",
   "execution_count": null,
   "id": "9ba930e8",
   "metadata": {},
   "outputs": [],
   "source": [
    "# This lazily generates dates\n",
    "for thing in daterange(season_start, season_end):\n",
    "    print(thing)"
   ]
  }
 ],
 "metadata": {
  "kernelspec": {
   "display_name": "Python [conda env:sports]",
   "language": "python",
   "name": "conda-env-sports-py"
  },
  "language_info": {
   "codemirror_mode": {
    "name": "ipython",
    "version": 3
   },
   "file_extension": ".py",
   "mimetype": "text/x-python",
   "name": "python",
   "nbconvert_exporter": "python",
   "pygments_lexer": "ipython3",
   "version": "3.8.5"
  }
 },
 "nbformat": 4,
 "nbformat_minor": 5
}
